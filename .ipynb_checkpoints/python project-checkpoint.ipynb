{
 "cells": [
  {
   "cell_type": "code",
   "execution_count": 2,
   "id": "e990b850-d762-43b5-bee2-16f6486ad4b1",
   "metadata": {},
   "outputs": [],
   "source": [
    "import pandas as pd     #  pandas do utworzenia struktury DataFrame do wykresu (latwiejsze operowanie na danych)\n",
    "import tkinter as tk    #  tkinter do utworzenia GUI \n",
    "import numpy as np      #  numpy do utworzenia zbioru xticks(punktow na osi X) \n",
    "import matplotlib.pyplot as plt  # matplotlib do figury wykresu (obszar na ktorym znajduje sie wykres)\n",
    "from matplotlib.backends.backend_tkagg import FigureCanvasTkAgg # do przedstawienia wykresu poprzez tkinter\n",
    "import seaborn as sns  # do utworzenia wykresu poprzez seaborn(bardziej intuicyjne niz matplotlib)\n",
    "import random as rd    # do wygenerowania losowych danych przekazanych do wykresu"
   ]
  },
  {
   "cell_type": "code",
   "execution_count": 26,
   "id": "62cf65a6-4939-4343-90e0-10f9b6d750f7",
   "metadata": {},
   "outputs": [],
   "source": [
    "class gui(tk.Tk):    #  stworzenie klasy gui w ktorej zawiera sie caly program\n",
    "    def __init__(self, title, geometry):    #  funkcja ktora odpala sie przy inicjacji klasy\n",
    "        super().__init__()\n",
    "        \n",
    "        self.title(title)                   #  tytul okna gui\n",
    "        self.geometry(geometry)             #  rozmiar okna gui\n",
    "        self.frame = tk.Frame(self)         #  dodawanie widgetow label, entry itd do ramki ktora jest w glownym oknie tk.Tk\n",
    "        self.frame.pack()                   #  zapakowanie ramki do tk.Tk aby byla widoczna\n",
    "        \n",
    "        mini = tk.StringVar()               #  okreslenie zmiennych pod tkinter entry\n",
    "        maxi = tk.StringVar()\n",
    "        numb = tk.StringVar()\n",
    "        bins = tk.StringVar()\n",
    "        \n",
    "        label1 = tk.Label(self.frame, text=\"Podaj minimalna liczbe\")     #  label(tekst w gui) informuje co mamy wprowadzic\n",
    "        label1.grid(row = 1, column = 1)                                 #  grid(siatka) czyli jakie ma byc ulozenie widgetow\n",
    "        entry1 = tk.Entry(self.frame, textvariable=mini)                 #  entry(czyli puste pole do wypelnienia danymi)\n",
    "        entry1.grid(row=1, column=2)\n",
    "                          \n",
    "        label2 = tk.Label(self.frame, text=\"Podaj maksymalna liczbe\")\n",
    "        label2.grid(row = 1, column = 3)\n",
    "        entry2 = tk.Entry(self.frame, textvariable=maxi)\n",
    "        entry2.grid(row=1, column=4)\n",
    "\n",
    "        label3 = tk.Label(self.frame, text=\"Podaj ilosc liczb\")\n",
    "        label3.grid(row = 2, column = 1)\n",
    "        entry3 = tk.Entry(self.frame, textvariable=numb)\n",
    "        entry3.grid(row = 2, column = 2)\n",
    "\n",
    "        label4 = tk.Label(self.frame, text=\"Wybierz ilosc koszykow\")\n",
    "        label4.grid(row = 3, column = 1)\n",
    "        entry4 = tk.Entry(self.frame, textvariable = bins)\n",
    "        entry4.grid(row = 3, column = 2)\n",
    "\n",
    "\n",
    "        buttonsum = tk.Button(self.frame, text = \"Stworz wykres\", command = lambda: self.gen(mini.get(), maxi.get(), numb.get(), bins.get()))   # tk button czyli guzik wykonujacy funkcje gen(wygeneruj wykres), jest okreslony poprzez lambda gdyz w innym przypadku by nie pozwolil na wprowadzenie danych, .get() sluzy do przetransformowania informacji w rozszerzenie tkinter do zwyklej\n",
    "        buttonsum.grid(row = 4, column = 2, columnspan = 2)\n",
    "\n",
    "    def gen(self, mini, maxi, numb, binss):                                              #  funkcja generujaca wykres, przekazanie argumentow z entry\n",
    "        fig, ax = plt.subplots()                                                         #  utworzenie figury oraz podwykresu\n",
    "        canvas = FigureCanvasTkAgg(fig, master=self.frame)                               #  umieszczenie figury na plotnie do tkinter\n",
    "        canvas.get_tk_widget().grid(row = 5, column = 1, columnspan = 4)\n",
    "        table = []                                                                       #  utworzenie tabeli do losowych danych\n",
    "        rd.seed(a = None)                                                                #  zresetowanie seeda aby liczby byly pseudolosowe\n",
    "        for i in range(int(numb)):\n",
    "            table.append(rd.randint(int(mini), int(maxi)))                               #  pseudolosowanie danych\n",
    "        table = pd.DataFrame({\"liczby\" : table})                                         #  utworzenie dataframe z tablicy\n",
    "        sns.histplot(data = table,                                                       #  utworzenie wykresu poprzez seaborn, przekazanie dataframe\n",
    "                    x = table[\"liczby\"],                                                 #  wskazanie kolumny do zaprezentowania danych, ze wzgledu ze to jest histogram to wartosci Y to count z X\n",
    "                    bins = int(binss),                                                   #  ilosc koszykow na dane \n",
    "                    ax = ax)                                                             #  wskazanie na ktorym wykresie przedstawic wizualizacje\n",
    "        ax.set_xticks(np.arange(min(table[\"liczby\"]), max(table[\"liczby\"])+(max(table[\"liczby\"])-min(table[\"liczby\"]))/int(binss),(max(table[\"liczby\"])-min(table[\"liczby\"]))/int(binss)))        #  ustawienie xticks na ilosc \n",
    "        plt.close()                                                                      #  zamkniecie starego wykresu aby nie pokazywal sie w notebooku\n",
    "\n",
    "gui = gui(\"nygusek\", \"600x600\")\n",
    "gui.mainloop()"
   ]
  },
  {
   "cell_type": "code",
   "execution_count": null,
   "id": "5283023a-22fd-4003-9e71-633ad576b288",
   "metadata": {},
   "outputs": [],
   "source": []
  }
 ],
 "metadata": {
  "kernelspec": {
   "display_name": "Python 3 (ipykernel)",
   "language": "python",
   "name": "python3"
  },
  "language_info": {
   "codemirror_mode": {
    "name": "ipython",
    "version": 3
   },
   "file_extension": ".py",
   "mimetype": "text/x-python",
   "name": "python",
   "nbconvert_exporter": "python",
   "pygments_lexer": "ipython3",
   "version": "3.13.3"
  }
 },
 "nbformat": 4,
 "nbformat_minor": 5
}
