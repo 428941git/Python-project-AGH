{
 "cells": [
  {
   "cell_type": "code",
   "execution_count": 2,
   "id": "e990b850-d762-43b5-bee2-16f6486ad4b1",
   "metadata": {},
   "outputs": [],
   "source": [
    "import pandas as pd\n",
    "import tkinter as tk\n",
    "import numpy as np\n",
    "import folium\n",
    "import matplotlib.pyplot as plt\n",
    "from matplotlib.backends.backend_tkagg import FigureCanvasTkAgg\n",
    "import seaborn as sns\n",
    "import random as rd"
   ]
  },
  {
   "cell_type": "code",
   "execution_count": 15,
   "id": "62cf65a6-4939-4343-90e0-10f9b6d750f7",
   "metadata": {},
   "outputs": [
    {
     "data": {
      "image/png": "[encoded data removed]",
      "text/plain": [
       "<Figure size 640x480 with 1 Axes>"
      ]
     },
     "metadata": {},
     "output_type": "display_data"
    }
   ],
   "source": [
    "class gui(tk.Tk):\n",
    "    def __init__(self, title, geometry):\n",
    "        super().__init__()\n",
    "        \n",
    "        self.title(title)\n",
    "        self.geometry(geometry)\n",
    "        self.frame = tk.Frame(self)\n",
    "        self.frame.pack()\n",
    "        \n",
    "        mini = tk.StringVar()\n",
    "        maxi = tk.StringVar()\n",
    "        numb = tk.StringVar()\n",
    "        bins = tk.StringVar()\n",
    "        xticks = tk.StringVar()\n",
    "        yticks = tk.StringVar()\n",
    "        \n",
    "        label1 = tk.Label(self.frame, text=\"Podaj minimalna liczbe\")\n",
    "        label1.grid(row = 1, column = 1)\n",
    "        entry1 = tk.Entry(self.frame, textvariable=mini)\n",
    "        entry1.grid(row=1, column=2)\n",
    "                          \n",
    "        label2 = tk.Label(self.frame, text=\"Podaj maksymalna liczbe\")\n",
    "        label2.grid(row = 1, column = 3)\n",
    "        entry2 = tk.Entry(self.frame, textvariable=maxi)\n",
    "        entry2.grid(row=1, column=4)\n",
    "\n",
    "        label3 = tk.Label(self.frame, text=\"Podaj ilosc liczb\")\n",
    "        label3.grid(row = 2, column = 1)\n",
    "        entry3 = tk.Entry(self.frame, textvariable=numb)\n",
    "        entry3.grid(row = 2, column = 2)\n",
    "\n",
    "        label4 = tk.Label(self.frame, text=\"Wybierz ilosc koszykow\")\n",
    "        label4.grid(row = 3, column = 1)\n",
    "        entry4 = tk.Entry(self.frame, textvariable = bins)\n",
    "        entry4.grid(row = 3, column = 2)\n",
    "\n",
    "        label5 = tk.Label(self.frame, text=\"Co ile odstepy(oY)\")\n",
    "        label5.grid(row = 4, column = 1)\n",
    "        entry5 = tk.Entry(self.frame, textvariable = yticks)\n",
    "        entry5.grid(row = 4, column = 2)\n",
    "        \n",
    "        label6 = tk.Label(self.frame, text=\"Co ile odstepy(oX)\")\n",
    "        label6.grid(row = 4, column = 3)\n",
    "        entry6 = tk.Entry(self.frame, textvariable = xticks)\n",
    "        entry6.grid(row = 4, column = 4)\n",
    "\n",
    "        buttonsum = tk.Button(self.frame, text = \"Stworz wykres\", command = lambda: self.gen(mini.get(), maxi.get(), numb.get(), bins.get(), xticks.get(), yticks.get()))\n",
    "        buttonsum.grid(row = 5, column = 2, columnspan = 2)\n",
    "\n",
    "    def gen(self, mini, maxi, numb, binss, xticks, yticks):\n",
    "        fig, ax = plt.subplots()\n",
    "        canvas = FigureCanvasTkAgg(fig, master=self.frame)\n",
    "        canvas.get_tk_widget().grid(row = 6, column = 1, columnspan = 4)\n",
    "        table = []\n",
    "        rd.seed(a = None)\n",
    "        for i in range(int(numb)):\n",
    "            table.append(rd.randint(int(mini), int(maxi)))\n",
    "        table = pd.DataFrame({\"liczby\" : table})\n",
    "        sns.histplot(data = table,\n",
    "                    x = table[\"liczby\"],\n",
    "                    bins = int(binss))\n",
    "\n",
    "gui = gui(\"nygusek\", \"600x600\")\n",
    "gui.mainloop()"
   ]
  },
  {
   "cell_type": "code",
   "execution_count": null,
   "id": "5283023a-22fd-4003-9e71-633ad576b288",
   "metadata": {},
   "outputs": [],
   "source": []
  }
 ],
 "metadata": {
  "kernelspec": {
   "display_name": "Python 3 (ipykernel)",
   "language": "python",
   "name": "python3"
  },
  "language_info": {
   "codemirror_mode": {
    "name": "ipython",
    "version": 3
   },
   "file_extension": ".py",
   "mimetype": "text/x-python",
   "name": "python",
   "nbconvert_exporter": "python",
   "pygments_lexer": "ipython3",
   "version": "3.13.3"
  }
 },
 "nbformat": 4,
 "nbformat_minor": 5
}
